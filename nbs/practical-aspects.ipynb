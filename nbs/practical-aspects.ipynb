{
 "cells": [
  {
   "cell_type": "markdown",
   "metadata": {},
   "source": [
    "# Practical Aspects of Scientific Computing\n",
    "\n",
    "> Your time is more valuable than computer time -- Everyone, ever\n",
    "\n",
    "### Topics\n",
    "\n",
    "We discuss several aspects of computing that are things you do but don't often think about.  They can potentially save a large amount of time for you (not your computer).  In particular, we are going to look at\n",
    "\n",
    "* **Debugging** -- finding and fixing problems in your code\n",
    "* **Versioning** -- maintaining a consistent set of code with history\n",
    "* **Style** -- how you write your code influences its legibility\n",
    "* **Structure** -- the structure of your code\n",
    "* **Tools** -- choosing the right set of tools for the job"
   ]
  },
  {
   "cell_type": "markdown",
   "metadata": {},
   "source": [
    "# Debugging\n",
    "\n",
    "One of the most common things you do when creating a software package or solving a science problem is to debug your code.  I'm taking 'debug' in the \n",
    "\n",
    "Tests\n",
    "Simplest case\n",
    "Bisect print\n",
    "ipdb, %debug, Tracer()\n",
    "break points, old school"
   ]
  },
  {
   "cell_type": "code",
   "execution_count": null,
   "metadata": {
    "collapsed": true
   },
   "outputs": [],
   "source": []
  }
 ],
 "metadata": {
  "kernelspec": {
   "display_name": "Python 2",
   "language": "python",
   "name": "python2"
  },
  "language_info": {
   "codemirror_mode": {
    "name": "ipython",
    "version": 2
   },
   "file_extension": ".py",
   "mimetype": "text/x-python",
   "name": "python",
   "nbconvert_exporter": "python",
   "pygments_lexer": "ipython2",
   "version": "2.7.3"
  }
 },
 "nbformat": 4,
 "nbformat_minor": 0
}
